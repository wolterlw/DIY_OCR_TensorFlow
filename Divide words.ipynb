{
 "cells": [
  {
   "cell_type": "code",
   "execution_count": 1,
   "metadata": {
    "collapsed": true
   },
   "outputs": [],
   "source": [
    "import numpy as np\n",
    "import matplotlib.pyplot as plt\n",
    "import cv2\n",
    "import pyocr\n",
    "import PIL.Image\n",
    "%matplotlib inline\n",
    "from skimage.measure import label\n",
    "import pdb"
   ]
  },
  {
   "cell_type": "code",
   "execution_count": 206,
   "metadata": {
    "collapsed": false
   },
   "outputs": [],
   "source": [
    "class Image(np.ndarray):\n",
    "    \"\"\"class for workig with whole images\"\"\"\n",
    "    def __new__(subt, *args):\n",
    "        return args[0].view(subt)\n",
    "    \n",
    "    def resize(self,to_y = 100.):\n",
    "        ratio = to_y/img.shape[0]\n",
    "        self = cv2.resize(self, None, fx=ratio, fy=ratio)\n",
    "\n",
    "    def detect_edges(self,thresh_1=50,thresh_2=100):\n",
    "        \"\"\"\"applying Canny edge detection to the image\"\"\"\n",
    "        self.edges = cv2.Canny(self, thresh_1, thresh_2) / 255\n",
    "    \n",
    "    def parse(self):\n",
    "        parsed = pyocr.tesseract.image_to_string(self.img(),lang=\"ukr\",builder=pyocr.builders.WordBoxBuilder()) \n",
    "        if len(parsed) > 1:\n",
    "            print \"Multiple words found!\"\n",
    "            self.n_words = len(parsed)\n",
    "            self.words = [self[x.position[0][1]:x.position[1][1],x.position[0][0]:x.position[1][0]] for x in parsed]\n",
    "            for i in range(self.n_words):\n",
    "                self.words[i].text = parsed[i].content\n",
    "            self.text = ''.join([x.text for x in self.words])\n",
    "            return len(self.words)\n",
    "        else:\n",
    "            if len(parsed) == 1:\n",
    "                self.words = [self[parsed[0].position[0][1]:parsed[0].position[1][1],parsed[0].position[0][0]:parsed[0].position[1][0]]]\n",
    "                self.words[0].text = parsed[0].content\n",
    "                self.n_words = 1\n",
    "                self.box = parsed[0].position\n",
    "                self.text = parsed[0].content\n",
    "                return 1\n",
    "            else:\n",
    "                print \"Nothing found\"\n",
    "                return 0\n",
    "    def area(self):\n",
    "        return self.shape[0]*self.shape[1]\n",
    "    def _repr_png_(self):\n",
    "        return PIL.Image.fromarray(self)._repr_png_()"
   ]
  },
  {
   "cell_type": "code",
   "execution_count": 178,
   "metadata": {
    "collapsed": false
   },
   "outputs": [
    {
     "data": {
      "image/png": "[encoded data removed]",
      "text/plain": [
       "Image([[255, 255, 255, ..., 255, 255, 255],\n",
       "       [255, 255, 255, ..., 255, 255, 255],\n",
       "       [255, 255, 255, ..., 255, 255, 255],\n",
       "       ..., \n",
       "       [255, 255, 255, ..., 255, 255, 255],\n",
       "       [255, 255, 255, ..., 255, 255, 255],\n",
       "       [255, 255, 255, ..., 255, 255, 255]], dtype=uint8)"
      ]
     },
     "execution_count": 178,
     "metadata": {},
     "output_type": "execute_result"
    }
   ],
   "source": [
    "a = Image(cv2.imread('../coloured/colored_[10, 0]im53.jpg',0))\n",
    "a"
   ]
  },
  {
   "cell_type": "code",
   "execution_count": 179,
   "metadata": {
    "collapsed": false
   },
   "outputs": [
    {
     "name": "stdout",
     "output_type": "stream",
     "text": [
      "Multiple words found!\n",
      "ІЮЇІЕРЕЛІІІИ\n",
      "РЛХШЮК\n",
      "ІІ\n",
      "33008]\n"
     ]
    }
   ],
   "source": [
    "info = a.parse() \n",
    "if info == 1:\n",
    "    print a.text\n",
    "    print a.box\n",
    "else:\n",
    "    for word in a.words:\n",
    "        print word.text"
   ]
  },
  {
   "cell_type": "code",
   "execution_count": 180,
   "metadata": {
    "collapsed": false
   },
   "outputs": [],
   "source": [
    "b = (a < 10).astype(float) * 255\n",
    "b = cv2.dilate(b,np.ones([1,1]))"
   ]
  },
  {
   "cell_type": "code",
   "execution_count": 181,
   "metadata": {
    "collapsed": false
   },
   "outputs": [],
   "source": [
    "labs, n_labs = label(b,background=0 ,connectivity=2, return_num=True)"
   ]
  },
  {
   "cell_type": "code",
   "execution_count": 182,
   "metadata": {
    "collapsed": false
   },
   "outputs": [
    {
     "name": "stdout",
     "output_type": "stream",
     "text": [
      "39\n"
     ]
    },
    {
     "data": {
      "image/png": "[encoded data removed]",
      "text/plain": [
       "<matplotlib.figure.Figure at 0x7fc0fcc5ca50>"
      ]
     },
     "metadata": {},
     "output_type": "display_data"
    }
   ],
   "source": [
    "print n_labs\n",
    "plt.subplot(211)\n",
    "plt.axis('off')\n",
    "plt.imshow(labs ,cmap='Greys_r')\n",
    "plt.subplot(212)\n",
    "plt.axis('off')\n",
    "plt.imshow(b,cmap='Greys_r')\n",
    "plt.show()"
   ]
  },
  {
   "cell_type": "code",
   "execution_count": 183,
   "metadata": {
    "collapsed": false
   },
   "outputs": [],
   "source": [
    "def get_elem(labeled, n_elem,image=a,return_pos = False):\n",
    "    min0 = min(np.argwhere(labeled == n_elem), key=lambda x: x[0])[0]\n",
    "    min1 = min(np.argwhere(labeled == n_elem), key=lambda x: x[1])[1]\n",
    "    max0 = max(np.argwhere(labeled == n_elem), key=lambda x: x[0])[0]\n",
    "    max1 = max(np.argwhere(labeled == n_elem), key=lambda x: x[1])[1]\n",
    "    return (image[min0:max0,min1:max1], (min0,max0,min1,max1))"
   ]
  },
  {
   "cell_type": "code",
   "execution_count": 184,
   "metadata": {
    "collapsed": false
   },
   "outputs": [],
   "source": [
    "words = [x for x in a.words]"
   ]
  },
  {
   "cell_type": "code",
   "execution_count": 207,
   "metadata": {
    "collapsed": false
   },
   "outputs": [
    {
     "data": {
      "image/png": "[encoded data removed]",
      "text/plain": [
       "<matplotlib.figure.Figure at 0x7fc0fd1e1790>"
      ]
     },
     "metadata": {},
     "output_type": "display_data"
    }
   ],
   "source": [
    "plt.imshow(words[1], cmap='Greys_r')\n",
    "plt.axis('off')\n",
    "plt.show()"
   ]
  },
  {
   "cell_type": "code",
   "execution_count": 209,
   "metadata": {
    "collapsed": false
   },
   "outputs": [
    {
     "name": "stdout",
     "output_type": "stream",
     "text": [
      "РЛХШЮК\n"
     ]
    },
    {
     "data": {
      "image/png": "[encoded data removed]",
      "text/plain": [
       "Image([[255, 255, 255, ..., 251,   0,   1],\n",
       "       [235,  97,   0, ...,   0,   2,   1],\n",
       "       [  2,   1,   0, ...,   0,   5,  60],\n",
       "       ..., \n",
       "       [  0,   0,   2, ...,   0,   0,   1],\n",
       "       [  2,   0,   0, ...,   5,   0,   2],\n",
       "       [ 81,   2,  32, ..., 255, 255, 251]], dtype=uint8)"
      ]
     },
     "execution_count": 209,
     "metadata": {},
     "output_type": "execute_result"
    }
   ],
   "source": [
    "print a.words[1].text\n",
    "a.words[1]"
   ]
  },
  {
   "cell_type": "code",
   "execution_count": 212,
   "metadata": {
    "collapsed": false
   },
   "outputs": [],
   "source": [
    "def filter(image,letter):\n",
    "    if letter.shape[0] < image.shape[0]/2. or letter.shape[1] < image.shape[1]/(2.*len(image.text)):\n",
    "        return False\n",
    "    if letter.shape[1] > image.shape[1]/2: \n",
    "        return False\n",
    "    else: return True \n",
    "    "
   ]
  },
  {
   "cell_type": "code",
   "execution_count": 214,
   "metadata": {
    "collapsed": false
   },
   "outputs": [],
   "source": [
    "letters = [get_elem(labs,i) for i in range(n_labs+1) if filter(a,get_elem(labs,i)[0])]"
   ]
  },
  {
   "cell_type": "code",
   "execution_count": 215,
   "metadata": {
    "collapsed": false
   },
   "outputs": [
    {
     "data": {
      "image/png": "[encoded data removed]",
      "text/plain": [
       "Image([[254, 255,  98,   0,   0,   0,  68, 132, 255],\n",
       "       [253, 120,   3,   2,   0,   4,   0,   4, 164],\n",
       "       [255,   0,   0,   4,   4,   0,   2,   0,   2],\n",
       "       [ 23,   4,   1,   1,  41, 255,   2,   0,   0],\n",
       "       [ 18,   0,   1,   0, 255, 252,   0,   0,   1],\n",
       "       [  3,   0,   1, 142, 252, 255,   0,   0,   0],\n",
       "       [  0,   1,   2, 191, 255, 254,   0,   0,   0],\n",
       "       [  1,   0,   3, 195, 255, 254,   3,   0,   3],\n",
       "       [  0,   0,   0, 196, 255, 255,   2,   0,   0],\n",
       "       [  0,   2,   0, 196, 251, 251,   1,   3,   2],\n",
       "       [  1,   0,   2, 192, 255, 254,   2,   0,   0],\n",
       "       [  0,   2,   0, 195, 251, 252,   2,   0,   3],\n",
       "       [  2,   0,   0, 194, 255, 255,   0,   0,   0],\n",
       "       [  0,   0,   1, 195, 252,   0,   2,   0,   0],\n",
       "       [  4,   2,   0,   3, 253,   1,   0,   2,   0],\n",
       "       [  0,   0,   1,   2, 253,   5,   3,   0,   2],\n",
       "       [  0,   1,   0,   0, 255, 254,  49,   1,   0],\n",
       "       [  2,   1,   2, 202, 253, 255,  97,   2,   3]], dtype=uint8)"
      ]
     },
     "execution_count": 215,
     "metadata": {},
     "output_type": "execute_result"
    }
   ],
   "source": [
    "letters[8][0]"
   ]
  },
  {
   "cell_type": "code",
   "execution_count": 216,
   "metadata": {
    "collapsed": false
   },
   "outputs": [],
   "source": [
    "lttrs_s = sorted(letters, key = lambda x: x[1][2])"
   ]
  },
  {
   "cell_type": "code",
   "execution_count": 230,
   "metadata": {
    "collapsed": true
   },
   "outputs": [],
   "source": [
    "def im_resize(image, dest_y = 70):\n",
    "    ratio  = float(dest_y) / image.shape[0]\n",
    "    return Image(cv2.resize(image, None, fx = ratio, fy = ratio))"
   ]
  },
  {
   "cell_type": "code",
   "execution_count": 231,
   "metadata": {
    "collapsed": false
   },
   "outputs": [],
   "source": [
    "resized = im_resize(lttrs_s[0][0])"
   ]
  },
  {
   "cell_type": "code",
   "execution_count": 232,
   "metadata": {
    "collapsed": true
   },
   "outputs": [],
   "source": [
    "def to_square(image, sq_side = 70):\n",
    "    sq = np.ones((sq_side,sq_side)) * 255\n",
    "    margin =(sq_side - image.shape[1])/2\n",
    "    sq[:,margin:margin+image.shape[1]] = image\n",
    "    return Image(sq.astype(np.uint8))"
   ]
  },
  {
   "cell_type": "code",
   "execution_count": 233,
   "metadata": {
    "collapsed": false
   },
   "outputs": [],
   "source": [
    "res = to_square(resized)"
   ]
  },
  {
   "cell_type": "code",
   "execution_count": 235,
   "metadata": {
    "collapsed": false
   },
   "outputs": [
    {
     "data": {
      "image/png": "[encoded data removed]",
      "text/plain": [
       "Image([[255, 255, 255, ..., 255, 255, 255],\n",
       "       [255, 255, 255, ..., 255, 255, 255],\n",
       "       [255, 255, 255, ..., 255, 255, 255],\n",
       "       ..., \n",
       "       [255, 255, 255, ..., 255, 255, 255],\n",
       "       [255, 255, 255, ..., 255, 255, 255],\n",
       "       [255, 255, 255, ..., 255, 255, 255]], dtype=uint8)"
      ]
     },
     "execution_count": 235,
     "metadata": {},
     "output_type": "execute_result"
    }
   ],
   "source": [
    "res"
   ]
  },
  {
   "cell_type": "code",
   "execution_count": null,
   "metadata": {
    "collapsed": true
   },
   "outputs": [],
   "source": []
  }
 ],
 "metadata": {
  "kernelspec": {
   "display_name": "Python 2",
   "language": "python",
   "name": "python2"
  },
  "language_info": {
   "codemirror_mode": {
    "name": "ipython",
    "version": 2
   },
   "file_extension": ".py",
   "mimetype": "text/x-python",
   "name": "python",
   "nbconvert_exporter": "python",
   "pygments_lexer": "ipython2",
   "version": "2.7.12"
  }
 },
 "nbformat": 4,
 "nbformat_minor": 0
}
